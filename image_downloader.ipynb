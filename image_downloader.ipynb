{
  "nbformat": 4,
  "nbformat_minor": 0,
  "metadata": {
    "colab": {
      "provenance": []
    },
    "kernelspec": {
      "name": "python3",
      "display_name": "Python 3"
    },
    "language_info": {
      "name": "python"
    }
  },
  "cells": [
    {
      "cell_type": "code",
      "execution_count": null,
      "metadata": {
        "colab": {
          "base_uri": "https://localhost:8080/"
        },
        "id": "rybkADzyqeEl",
        "outputId": "93a902c6-7996-48a3-e121-847170ac797c"
      },
      "outputs": [
        {
          "output_type": "stream",
          "name": "stdout",
          "text": [
            " * Serving Flask app '__main__'\n",
            " * Debug mode: on\n"
          ]
        },
        {
          "output_type": "stream",
          "name": "stderr",
          "text": [
            "INFO:werkzeug:\u001b[31m\u001b[1mWARNING: This is a development server. Do not use it in a production deployment. Use a production WSGI server instead.\u001b[0m\n",
            " * Running on http://127.0.0.1:8000\n",
            "INFO:werkzeug:\u001b[33mPress CTRL+C to quit\u001b[0m\n",
            "INFO:werkzeug: * Restarting with stat\n"
          ]
        }
      ],
      "source": [
        "\n",
        "from flask import Flask, render_template, request, send_file\n",
        "import requests\n",
        "import os\n",
        "import zipfile\n",
        "\n",
        "app = Flask(__name__)\n",
        "\n",
        "PEXELS_API_KEY = '7m5WnSwWFeWh5aOHvfeI3rmXls6NNStegUMUrwc0DmaQkvtFPUoeYIrN' #  Replace with your actual Pexels API key\n",
        "\n",
        "def download_images(query, num_images):\n",
        "    # Construct the Pexels search URL\n",
        "    search_url = f\"https://api.pexels.com/v1/search?query={query}&per_page={num_images}\"\n",
        "\n",
        "    headers = {\n",
        "        'Authorization': PEXELS_API_KEY\n",
        "    }\n",
        "\n",
        "    # Send a request to the Pexels API\n",
        "    try:\n",
        "        response = requests.get(search_url, headers=headers)\n",
        "        response.raise_for_status()  # Raise an error for bad responses\n",
        "        data = response.json()\n",
        "\n",
        "        if not data['photos']:\n",
        "            return None\n",
        "\n",
        "        image_paths = []\n",
        "\n",
        "        for i, photo in enumerate(data['photos']):\n",
        "            image_url = photo['src']['original']\n",
        "            img_data = requests.get(image_url).content\n",
        "            img_name = f\"downloads/{query.replace(' ', '_')}_{i + 1}.jpg\"\n",
        "            with open(img_name, 'wb') as handler:\n",
        "                handler.write(img_data)\n",
        "            image_paths.append(img_name)\n",
        "    except Exception as e:\n",
        "        return f\"Error: {str(e)}\"\n",
        "\n",
        "    return image_paths\n",
        "\n",
        "def zip_images(image_paths):\n",
        "    zip_filename = 'downloads/images.zip'\n",
        "\n",
        "    with zipfile.ZipFile(zip_filename, 'w') as zip_file:\n",
        "        for image_path in image_paths:\n",
        "            zip_file.write(image_path, os.path.basename(image_path))  # Only store the file name, not the full path\n",
        "\n",
        "    return zip_filename\n",
        "\n",
        "@app.route('/', methods=['GET', 'POST'])\n",
        "def index():\n",
        "    if request.method == 'POST':\n",
        "        query = request.form['query']\n",
        "        num_images = int(request.form['num_images'])\n",
        "\n",
        "        try:\n",
        "            image_paths = download_images(query, num_images)\n",
        "            if image_paths:\n",
        "                zip_filename = zip_images(image_paths)\n",
        "                return send_file(zip_filename, as_attachment=True)\n",
        "            else:\n",
        "                return \"Failed to download images. Please try again.\"\n",
        "        except Exception as e:\n",
        "            return f\"An error occurred: {str(e)}\"\n",
        "\n",
        "    return render_template('index.html')\n",
        "\n",
        "if __name__ == '__main__':\n",
        "    os.makedirs('downloads', exist_ok=True)\n",
        "    app.run(debug=True, port=8000)"
      ]
    }
  ]
}